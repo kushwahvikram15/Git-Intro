{
 "cells": [
  {
   "cell_type": "markdown",
   "metadata": {},
   "source": [
    "<h1 color = '#1ea1b3' >Web Scraping</h1>"
   ]
  },
  {
   "cell_type": "code",
   "execution_count": 1,
   "metadata": {},
   "outputs": [],
   "source": [
    "import requests\n",
    "from bs4 import BeautifulSoup\n",
    "import pandas as pd"
   ]
  },
  {
   "cell_type": "code",
   "execution_count": 2,
   "metadata": {},
   "outputs": [
    {
     "name": "stdout",
     "output_type": "stream",
     "text": [
      "Data Frame Created\n"
     ]
    }
   ],
   "source": [
    "import requests\n",
    "from bs4 import BeautifulSoup\n",
    "name = []\n",
    "date = []\n",
    "rating = []\n",
    "place= []\n",
    "location = []\n",
    "review = []\n",
    "for i in range(72):\n",
    "    page = requests.get(f'https://www.flipkart.com/adidas-running-shoes/product-reviews/itmeqrywa9rmvbhm?pid=SHOEQRYVQHWNQX8P&aid=overall&certifiedBuyer=false&sortOrder=NEGATIVE_FIRST&page={i+1}')\n",
    "    if page.status_code==200 :\n",
    "    \n",
    "        soup = BeautifulSoup(page.text)\n",
    "\n",
    "        #name\n",
    "        all_name = soup.find_all('p',attrs = {'class':'_3LYOAd _3sxSiS _2675cp'})\n",
    "        for k,ele in enumerate(all_name):\n",
    "            name.append(ele.text)\n",
    "\n",
    "         #date   \n",
    "        all_date = soup.find_all('p', attrs = {'class':'_3LYOAd'})\n",
    "        for i, ele in enumerate(all_date):\n",
    "            if i%2!=0:\n",
    "                date.append(ele.text)\n",
    "\n",
    "        #rating\n",
    "        all_rating = soup.find_all('div', {'class':'hGSR34'})\n",
    "        for ele in all_rating:\n",
    "            if ele.text!='3.9':\n",
    "\n",
    "                rating.append(ele.text)\n",
    "\n",
    "\n",
    "        #location\n",
    "        all_place = soup.find_all('p',attrs = {'class':'_19inI8'})\n",
    "        for j,ele in enumerate(all_place):\n",
    "            location.append(ele.text.split(',')[1].strip())\n",
    "        if j!=k:\n",
    "            for i in range(9-j):\n",
    "                location.append(ele.text)\n",
    "\n",
    "        #review\n",
    "        all_review = soup.find_all('div',attrs = {'class':'_2t8wE0'})\n",
    "        for ele in all_review:\n",
    "            review.append(ele.text)\n",
    "\n",
    "df = pd.DataFrame(data = {\n",
    "    'name':name,\n",
    "    'location':location,\n",
    "    'rating':rating,\n",
    "    'date':date,\n",
    "    'review':review\n",
    "})  \n",
    "print('Data Frame Created')\n",
    "df.to_csv('flipkart_review_details.csv')   "
   ]
  },
  {
   "cell_type": "code",
   "execution_count": 3,
   "metadata": {},
   "outputs": [
    {
     "data": {
      "text/html": [
       "<div>\n",
       "<style scoped>\n",
       "    .dataframe tbody tr th:only-of-type {\n",
       "        vertical-align: middle;\n",
       "    }\n",
       "\n",
       "    .dataframe tbody tr th {\n",
       "        vertical-align: top;\n",
       "    }\n",
       "\n",
       "    .dataframe thead th {\n",
       "        text-align: right;\n",
       "    }\n",
       "</style>\n",
       "<table border=\"1\" class=\"dataframe\">\n",
       "  <thead>\n",
       "    <tr style=\"text-align: right;\">\n",
       "      <th></th>\n",
       "      <th>name</th>\n",
       "      <th>location</th>\n",
       "      <th>rating</th>\n",
       "      <th>date</th>\n",
       "      <th>review</th>\n",
       "    </tr>\n",
       "  </thead>\n",
       "  <tbody>\n",
       "    <tr>\n",
       "      <th>0</th>\n",
       "      <td>Amin kharkongor</td>\n",
       "      <td>Shillong</td>\n",
       "      <td>1</td>\n",
       "      <td>Sep, 2017</td>\n",
       "      <td>Good but one foot is smaller. The sole is hard...</td>\n",
       "    </tr>\n",
       "    <tr>\n",
       "      <th>1</th>\n",
       "      <td>Harish Bora</td>\n",
       "      <td>Bengaluru</td>\n",
       "      <td>1</td>\n",
       "      <td>Oct, 2017</td>\n",
       "      <td>Worst and quality is very cheap</td>\n",
       "    </tr>\n",
       "    <tr>\n",
       "      <th>2</th>\n",
       "      <td>Flipkart Customer</td>\n",
       "      <td>Punjalkatte</td>\n",
       "      <td>1</td>\n",
       "      <td>Mar, 2017</td>\n",
       "      <td>Very poor quality</td>\n",
       "    </tr>\n",
       "    <tr>\n",
       "      <th>3</th>\n",
       "      <td>Deepak Pandey</td>\n",
       "      <td>Mumbai</td>\n",
       "      <td>1</td>\n",
       "      <td>Jun, 2017</td>\n",
       "      <td>I had brought brand new adidas running shoes o...</td>\n",
       "    </tr>\n",
       "    <tr>\n",
       "      <th>4</th>\n",
       "      <td>Flipkart Customer</td>\n",
       "      <td>Bhopal District</td>\n",
       "      <td>1</td>\n",
       "      <td>Dec, 2017</td>\n",
       "      <td>very bad</td>\n",
       "    </tr>\n",
       "  </tbody>\n",
       "</table>\n",
       "</div>"
      ],
      "text/plain": [
       "                name         location rating       date  \\\n",
       "0   Amin kharkongor          Shillong      1  Sep, 2017   \n",
       "1        Harish Bora        Bengaluru      1  Oct, 2017   \n",
       "2  Flipkart Customer      Punjalkatte      1  Mar, 2017   \n",
       "3      Deepak Pandey           Mumbai      1  Jun, 2017   \n",
       "4  Flipkart Customer  Bhopal District      1  Dec, 2017   \n",
       "\n",
       "                                              review  \n",
       "0  Good but one foot is smaller. The sole is hard...  \n",
       "1                    Worst and quality is very cheap  \n",
       "2                                  Very poor quality  \n",
       "3  I had brought brand new adidas running shoes o...  \n",
       "4                                           very bad  "
      ]
     },
     "execution_count": 3,
     "metadata": {},
     "output_type": "execute_result"
    }
   ],
   "source": [
    "df.head()"
   ]
  },
  {
   "cell_type": "code",
   "execution_count": 4,
   "metadata": {},
   "outputs": [
    {
     "name": "stdout",
     "output_type": "stream",
     "text": [
      "<class 'pandas.core.frame.DataFrame'>\n",
      "RangeIndex: 713 entries, 0 to 712\n",
      "Data columns (total 5 columns):\n",
      "name        713 non-null object\n",
      "location    713 non-null object\n",
      "rating      713 non-null object\n",
      "date        713 non-null object\n",
      "review      713 non-null object\n",
      "dtypes: object(5)\n",
      "memory usage: 27.9+ KB\n"
     ]
    }
   ],
   "source": [
    "df.info()"
   ]
  }
 ],
 "metadata": {
  "kernelspec": {
   "display_name": "Python 3",
   "language": "python",
   "name": "python3"
  },
  "language_info": {
   "codemirror_mode": {
    "name": "ipython",
    "version": 3
   },
   "file_extension": ".py",
   "mimetype": "text/x-python",
   "name": "python",
   "nbconvert_exporter": "python",
   "pygments_lexer": "ipython3",
   "version": "3.7.3"
  }
 },
 "nbformat": 4,
 "nbformat_minor": 2
}
